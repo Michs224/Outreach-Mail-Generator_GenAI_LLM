{
 "cells": [
  {
   "cell_type": "code",
   "execution_count": 1,
   "metadata": {},
   "outputs": [
    {
     "data": {
      "text/plain": [
       "True"
      ]
     },
     "execution_count": 1,
     "metadata": {},
     "output_type": "execute_result"
    }
   ],
   "source": [
    "from langchain_groq import ChatGroq\n",
    "# os.environ[\"USER_AGENT\"] = \"Mozilla/5.0 (Windows NT 10.0; Win64; x64) AppleWebKit/537.36 (KHTML, like Gecko) Chrome/91.0.4472.124 Safari/537.36\"\n",
    "# from langchain_community.document_loaders import WebBaseLoader\n",
    "# from langchain_core.prompts import PromptTemplate\n",
    "# from langchain_core.output_parsers import JsonOutputParser\n",
    "# import pandas as pd\n",
    "# import chromadb\n",
    "import os\n",
    "from dotenv import load_dotenv\n",
    "load_dotenv()"
   ]
  },
  {
   "cell_type": "code",
   "execution_count": 2,
   "metadata": {},
   "outputs": [
    {
     "name": "stdout",
     "output_type": "stream",
     "text": [
      "Black Clover is a popular Japanese manga and anime series created by Yūki Tabata. The story takes place in a world where magic is everything, and it follows the adventures of two boys, Asta and Yuno, who are on a quest to become the next Wizard King.\n",
      "\n",
      "In this world, magic is a part of everyday life, and people use it to perform various tasks, from simple chores to complex spells. However, Asta is born without any magical powers, which makes him an outcast in a society where magic is highly valued.\n",
      "\n",
      "Despite his lack of magic, Asta dreams of becoming the Wizard King, a title given to the most powerful magician in the land. He is determined to prove himself and show that even without magic, he can achieve great things.\n",
      "\n",
      "Yuno, on the other hand, is a prodigy with exceptional magical abilities. He is confident, talented, and charismatic, and he is also on a quest to become the Wizard King.\n",
      "\n",
      "Throughout the series, Asta and Yuno face various challenges, obstacles, and enemies as they strive to achieve their goals. Along the way, they meet new friends, allies, and mentors who help them on their journey.\n",
      "\n",
      "Black Clover is known for its unique blend of action, adventure, comedy, and fantasy elements, as well as its well-developed characters and engaging storyline. The series has gained a large following worldwide and has been praised for its themes of perseverance, friendship, and self-improvement.\n",
      "\n",
      "The manga series was first published in 2015, and the anime adaptation premiered in 2017. Since then, the series has become a global phenomenon, with millions of fans worldwide.\n"
     ]
    }
   ],
   "source": [
    "llm = ChatGroq(\n",
    "    model_name=\"llama-3.3-70b-versatile\",\n",
    "    temperature=0,\n",
    "    groq_api_key=os.getenv(\"GROQ_API_KEY\")\n",
    ")\n",
    "response=llm.invoke(\"What is Black Clover?\")\n",
    "print(response.content)"
   ]
  },
  {
   "cell_type": "code",
   "execution_count": 3,
   "metadata": {},
   "outputs": [
    {
     "name": "stdout",
     "output_type": "stream",
     "text": [
      "\n",
      "\n",
      "\n",
      "Data Scientist Intern - Indonesia\n",
      "\n",
      "\n",
      "    \n",
      "\t\t\t\t\tProduk\n",
      "\t\t\t\t\t Transfer \n",
      "\t\t\t\t\t\t\t\t\tTransfer ke akun sendiri\n",
      "\t\t\t\t\t\t\t\t\n",
      "\t\t\t\t\t\t\t\t\tTransfer ke orang lain\n",
      "\t\t\t\t\t\t\t\tBayar \n",
      "\t\t\t\t\t\t\t\t\tQRIS\n",
      "\t\t\t\t\t\t\t\t\n",
      "\t\t\t\t\t\t\t\t\tTokopedia\n",
      "\t\t\t\t\t\t\t\t\n",
      "\t\t\t\t\t\t\t\t\tGojek\n",
      "\t\t\t\t\t\t\t\t\n",
      "\t\t\t\t\t\t\t\t\tTagihan & pulsa\n",
      "\t\t\t\t\t\t\t\t\n",
      "\t\t\t\t\t\t\t\t\tTransaksi digital\n",
      "\t\t\t\t\t\t\t\tPinjaman \n",
      "\t\t\t\t\t\t\t\t\tGoPay Pinjam\n",
      "\t\t\t\t\t\t\t\t\n",
      "\t\t\t\t\t\t\t\t\tGoPay Later\n",
      "\t\t\t\t\t\t\t\tDompet Digital \n",
      "\t\t\t\t\t\t\t\t\tGoPay Saldo\n",
      "\t\t\t\t\t\t\t\t\n",
      "\t\t\t\t\t\t\t\t\tGoPay Tabungan by Jago\n",
      "\t\t\t\t\t\t\t\t\n",
      "\t\t\t\t\t\t\t\t\tGopay Syariah\n",
      "\t\t\t\t\t\t\t\t\n",
      "\t\t\t\t\t\t\t\t\tGoPay Coins\n",
      "\t\t\t\t\t\t\t\t\n",
      "\t\t\t\t\t\t\t\t\tGoPay Later\n",
      "\t\t\t\t\t\t\t\t\n",
      "\t\t\t\t\t\t\t\t\tMetode Lainnya\n",
      "\t\t\t\t\t\t\t\t\n",
      "\t\t\t\t\t\t\t\t\tLaporan pengeluaran\n",
      "\t\t\t\t\t\t\t\tGoPay Aman \n",
      "\t\t\t\t\t\t\t\t\tPerlindungan akun\n",
      "\t\t\t\t\t\t\t\t\n",
      "\t\t\t\t\t\t\t\t\tLayanan bantuan 24/7\n",
      "\t\t\t\t\t\t\t\t\n",
      "\t\t\t\t\t\t\t\t\tJaminan Saldo Kembali\n",
      "\t\t\t\t\t\t\t\t\n",
      "\t\t\t\t\t\t\t\t\tPerlindungan data & privasi\n",
      "\t\t\t\t\t\t\t\tGames \n",
      "\t\t\t\t\t\t\t\t\tGoPay Games\n",
      "\t\t\t\t\t\t\t\t\n",
      "\t\t\t\t\tMerchant\n",
      "\t\t\t\t\t Merchant \n",
      "\t\t\t\t\t\t\t\t\tTentang Merchant \n",
      "\t\t\t\t\t\t\t\t\n",
      "\t\t\t\t\t\t\t\t\tBlog Merchant\n",
      "\t\t\t\t\t\t\t\t\n",
      "\t\t\t\t\tPerusahaan\n",
      "\t\t\t\t\t Perusahaan \n",
      "\t\t\t\t\t\t\t\t\tTentang GoPay\n",
      "\t\t\t\t\t\t\t\t\n",
      "\t\t\t\t\t\t\t\t\tSiaran pers\n",
      "\t\t\t\t\t\t\t\t\n",
      "\t\t\t\t\t\t\t\t\tPertanyaan media\n",
      "\t\t\t\t\t\t\t\t\n",
      "\t\t\t\t\t\t\t\t\tPintar Bareng GoPay\n",
      "\t\t\t\t\t\t\t\t\n",
      "\t\t\t\t\t\t\t\t\tKarier\n",
      "\t\t\t\t\t\t\t\t\n",
      "\t\t\t\t\tBantuan\n",
      "\t\t\t\t\t Help \n",
      "\t\t\t\t\t\t\t\t\tBantuan Pengguna\n",
      "\t\t\t\t\t\t\t\t\n",
      "\t\t\t\t\t\t\t\t\tBantuan Merchant\n",
      "\t\t\t\t\t\t\t\t  Unduh  Careers / Data Scientist Intern - Indonesia Data Scientist Intern - Indonesia \n",
      "\t\t\t\t\t\t\tFinTech - Data Products & Infra •\n",
      "\t\t\t\t\t\t\tJakarta\n",
      "\t\t\t\t\t\t Apply Now  Share role:     About the RoleWe are looking for a dynamic, energetic intern who is eager to solve a variety of practical deep learning and computer vision tasks arising from different businesses in GoTo Financial. You will be working closely with the KYC data science team and attend daily standups. You will be involved in live production projects and assisting prototype development.About the TeamGoto KYC Data Science team builds critical ML components/models which go into the engineering systems which make Goto a safe, trusted and fun way to do payments. Our team members come from varied backgrounds, and bring with them a wide set of skills (mathematics, statistics, machine learning, deep learning etc) which we use some of the toughest business problems in GoPay. We are enthusiastic about both data science techniques and methods, as well as the business impact of our models, and have numerous internal forums where sharing, discussions and presentations by the team members happen.  What You Will Do Work with data like images, videos and text etc.Design, train, quantize and deploy deep learning/computer vision modelsDevelop unit tests, documentation for features, evaluating, benchmarking the prediction/qualityCommunicate with supervisor/buddy for daily activities What You Will Need Knowledge of developing Deep Learning/Computer Vision and classic ML models for practical applicationsProficiency in deep learning frameworks such as PyTorchStrong communication skills to understand business stakeholders' needs and effectively convey analytical resultsAbility to write clear and concise technical documentationAbility to work independently and collaboratively within a team  About GoTo GroupGoTo Group is the largest digital ecosystem in Indonesia with its mission to “Empower Progress’ by offering technological infrastructure and solutions for everyone to access and thrive in the digital economy. The GoTo ecosystem consists of on-demand transportation services, food and grocery delivery, logistics and fulfillment, as well as financial and payment services through the Gojek and GoTo Financial platforms.It is the first platform in Southeast Asia that hosts these crucial cases in a single ecosystem, capturing the majority of Indonesia’s vast consumer household.About Gojek Gojek is Southeast Asia’s leading on-demand platform and pioneer of the multi-service ecosystem with over 2.5 million driver partners across the regions offering a wide range of services such as transportation, food delivery, logistics and more. With its mission to create impact at scale, Gojek is committed to resolving consumer problems and raising standards of living by connecting consumers to the best providers of goods and services in the market.About GoTo FinancialGoTo Financial accelerates financial inclusion through its leading financial services and merchants solutions. Its consumer services include GoPay and GoPayLater and serve businesses of all sizes through Midtrans, Moka, GoBiz Plus, GoBiz, and Selly. With its trusted and inclusive ecosystem of products, GoTo Financial is open to new growth opportunities and aims to empower everyone to Make It Happen, Make It Together, Make It Last.GoTo and its business units, including Gojek and GoToFinancial (\"GoTo\") only post job opportunities on our official channels on our respective company websites and on LinkedIn. GoTo is not liable for any job postings or job offers that did not originate from us. You should conduct your own due diligence to prevent being victims of any fake job scams, if they did not originate from GoTo's official recruitment channels.#LI-GOTO#LI-Onsite  Call Center: 1500729 customerservice@gopay.co.id  Produk \n",
      "\t\t\t\t\tTransfer\n",
      "\t\t\t\t\n",
      "\t\t\t\t\tBayar\n",
      "\t\t\t\t\n",
      "\t\t\t\t\tPinjaman\n",
      "\t\t\t\t\n",
      "\t\t\t\t\tDompet Digital\n",
      "\t\t\t\t\n",
      "\t\t\t\t\tAman\n",
      "\t\t\t\t\n",
      "\t\t\t\t\tGoPay Games\n",
      "\t\t\t\t Merchant \n",
      "\t\t\t\t\tTentang Merchant\n",
      "\t\t\t\t\n",
      "\t\t\t\t\tBlog Merchant\n",
      "\t\t\t\t Perusahaan \n",
      "\t\t\t\t\tTentang GoPay\n",
      "\t\t\t\t\n",
      "\t\t\t\t\tSiaran Pers\n",
      "\t\t\t\t\n",
      "\t\t\t\t\tPertanyaan Media\n",
      "\t\t\t\t\n",
      "\t\t\t\t\tKarier\n",
      "\t\t\t\t Lainnya \n",
      "\t\t\t\t\tBantuan\n",
      "\t\t\t\t\n",
      "\t\t\t\t\tBantuan Merchant\n",
      "\t\t\t\t\n",
      "\t\t\t\t\tBlog\n",
      "\t\t\t\t\n",
      "\t\t\t\t\tPromo\n",
      "\t\t\t\t\n",
      "\t\t\t\t\tHubungi Kami\n",
      "\t\t\t\t\n",
      "\t\t\t\t\tPemberitahuan Privasi\n",
      "\t\t\t\t \n",
      "\t\t\t\t\tKelola Cookie\n",
      "\t\t\t\t \n",
      "\t\t\t\t\tHubungi Kami\n",
      "\t\t\t\t \n",
      "\t\t\t\t\tGedung Pasaraya Blok M, Gedung B, Lt. 3 Jalan Iskandarsyah II No. 2, Melawai, Kebayoran Baru Jakarta Selatan 12160\n",
      "\t\t\t\t\n",
      "\n",
      "\t\t\t\t1500729\n",
      "\t\t\t GoPay Indonesia berizin dan diawasi oleh Bank Indonesia. GoPay Pinjam oleh PT Mapan Global Reksa dan GoPay Later oleh PT Multifinance Anak Bangsa berizin dan diawasi oleh OJK.\n",
      "© 2023 GoPay - PT Dompet Anak Bangsa. All Rights Reserved.\n",
      "\n",
      "\n",
      "\n"
     ]
    }
   ],
   "source": [
    "import os\n",
    "os.environ[\"USER_AGENT\"] = \"Mozilla/5.0 (Windows NT 10.0; Win64; x64) AppleWebKit/537.36 (KHTML, like Gecko) Chrome/91.0.4472.124 Safari/537.36\"\n",
    "from langchain_community.document_loaders import WebBaseLoader\n",
    "\n",
    "loader = WebBaseLoader(\"https://gopay.co.id/karier/job/data-scientist-intern-indonesia\")\n",
    "page_data = loader.load().pop().page_content\n",
    "print(page_data)"
   ]
  },
  {
   "cell_type": "code",
   "execution_count": 4,
   "metadata": {},
   "outputs": [],
   "source": [
    "# help(chain_extract.invoke)"
   ]
  },
  {
   "cell_type": "code",
   "execution_count": 5,
   "metadata": {},
   "outputs": [
    {
     "name": "stdout",
     "output_type": "stream",
     "text": [
      "```json\n",
      "{\n",
      "  \"role\": \"Data Scientist Intern - Indonesia\",\n",
      "  \"experience\": \"Intern\",\n",
      "  \"skills\": [\n",
      "    \"Deep Learning\",\n",
      "    \"Computer Vision\",\n",
      "    \"PyTorch\",\n",
      "    \"Machine Learning\",\n",
      "    \"Classic ML models\",\n",
      "    \"Strong communication skills\"\n",
      "  ],\n",
      "  \"description\": \"We are looking for a dynamic, energetic intern who is eager to solve a variety of practical deep learning and computer vision tasks arising from different businesses in GoTo Financial. You will be working closely with the KYC data science team and attend daily standups. You will be involved in live production projects and assisting prototype development.\"\n",
      "}\n",
      "```\n"
     ]
    }
   ],
   "source": [
    "from langchain_core.prompts import PromptTemplate\n",
    "\n",
    "prompt_extract = PromptTemplate.from_template(\n",
    "    \"\"\"\n",
    "    ### SCRAPED TEXT FROM WEBSITE:\n",
    "    {page_data}\n",
    "    ### INSTRUCTION:\n",
    "    The scrapped text is from the career's page of a website.\n",
    "    Your job is to extract the job postings and return them in JSON format containing the following keys: 'role', 'experience', 'skills', and 'description'.\n",
    "    Only return the valid JSON.\n",
    "    ### VALID JSON (NO PREAMBLE):\n",
    "    \"\"\"\n",
    ")\n",
    "chain_extract = prompt_extract | llm\n",
    "# It means that the output of the first model is passed as input to the second model.\n",
    "# \"Use this prompt (prompt_extract) as input to the model (llm) and generate the response.\"\n",
    "\n",
    "res = chain_extract.invoke(input={'page_data': page_data})\n",
    "print(res.content)"
   ]
  },
  {
   "cell_type": "code",
   "execution_count": 6,
   "metadata": {},
   "outputs": [
    {
     "data": {
      "text/plain": [
       "str"
      ]
     },
     "execution_count": 6,
     "metadata": {},
     "output_type": "execute_result"
    }
   ],
   "source": [
    "type(res.content)"
   ]
  },
  {
   "cell_type": "code",
   "execution_count": 7,
   "metadata": {},
   "outputs": [
    {
     "name": "stdout",
     "output_type": "stream",
     "text": [
      "{'role': 'Data Scientist Intern - Indonesia', 'experience': 'Intern', 'skills': ['Deep Learning', 'Computer Vision', 'PyTorch', 'Machine Learning', 'Classic ML models', 'Strong communication skills'], 'description': 'We are looking for a dynamic, energetic intern who is eager to solve a variety of practical deep learning and computer vision tasks arising from different businesses in GoTo Financial. You will be working closely with the KYC data science team and attend daily standups. You will be involved in live production projects and assisting prototype development.'}\n"
     ]
    }
   ],
   "source": [
    "from langchain_core.output_parsers import JsonOutputParser\n",
    "\n",
    "json_parser = JsonOutputParser()\n",
    "json_res = json_parser.parse(res.content)\n",
    "print(json_res)"
   ]
  },
  {
   "cell_type": "code",
   "execution_count": 8,
   "metadata": {},
   "outputs": [
    {
     "data": {
      "text/plain": [
       "dict"
      ]
     },
     "execution_count": 8,
     "metadata": {},
     "output_type": "execute_result"
    }
   ],
   "source": [
    "type(json_res)"
   ]
  },
  {
   "cell_type": "code",
   "execution_count": 9,
   "metadata": {},
   "outputs": [
    {
     "data": {
      "text/html": [
       "<div>\n",
       "<style scoped>\n",
       "    .dataframe tbody tr th:only-of-type {\n",
       "        vertical-align: middle;\n",
       "    }\n",
       "\n",
       "    .dataframe tbody tr th {\n",
       "        vertical-align: top;\n",
       "    }\n",
       "\n",
       "    .dataframe thead th {\n",
       "        text-align: right;\n",
       "    }\n",
       "</style>\n",
       "<table border=\"1\" class=\"dataframe\">\n",
       "  <thead>\n",
       "    <tr style=\"text-align: right;\">\n",
       "      <th></th>\n",
       "      <th>Techstack</th>\n",
       "      <th>Links</th>\n",
       "    </tr>\n",
       "  </thead>\n",
       "  <tbody>\n",
       "    <tr>\n",
       "      <th>0</th>\n",
       "      <td>React, Node.js, MongoDB</td>\n",
       "      <td>https://example.com/react-portfolio</td>\n",
       "    </tr>\n",
       "    <tr>\n",
       "      <th>1</th>\n",
       "      <td>Angular,.NET, SQL Server</td>\n",
       "      <td>https://example.com/angular-portfolio</td>\n",
       "    </tr>\n",
       "    <tr>\n",
       "      <th>2</th>\n",
       "      <td>Vue.js, Ruby on Rails, PostgreSQL</td>\n",
       "      <td>https://example.com/vue-portfolio</td>\n",
       "    </tr>\n",
       "    <tr>\n",
       "      <th>3</th>\n",
       "      <td>Python, Django, MySQL</td>\n",
       "      <td>https://example.com/python-portfolio</td>\n",
       "    </tr>\n",
       "    <tr>\n",
       "      <th>4</th>\n",
       "      <td>Java, Spring Boot, Oracle</td>\n",
       "      <td>https://example.com/java-portfolio</td>\n",
       "    </tr>\n",
       "  </tbody>\n",
       "</table>\n",
       "</div>"
      ],
      "text/plain": [
       "                           Techstack                                  Links\n",
       "0            React, Node.js, MongoDB    https://example.com/react-portfolio\n",
       "1           Angular,.NET, SQL Server  https://example.com/angular-portfolio\n",
       "2  Vue.js, Ruby on Rails, PostgreSQL      https://example.com/vue-portfolio\n",
       "3              Python, Django, MySQL   https://example.com/python-portfolio\n",
       "4          Java, Spring Boot, Oracle     https://example.com/java-portfolio"
      ]
     },
     "execution_count": 9,
     "metadata": {},
     "output_type": "execute_result"
    }
   ],
   "source": [
    "import pandas as pd\n",
    "\n",
    "data = pd.read_csv(\"./portfolio_data.csv\")\n",
    "data.head()"
   ]
  },
  {
   "cell_type": "code",
   "execution_count": 10,
   "metadata": {},
   "outputs": [],
   "source": [
    "import chromadb\n",
    "import uuid\n",
    "\n",
    "client = chromadb.PersistentClient('vectorstore')\n",
    "collection = client.get_or_create_collection(name='data_portfolio')\n",
    "\n",
    "if not collection.count():\n",
    "    # print(\"test\")\n",
    "    for _, row in data.iterrows():\n",
    "        collection.add(documents=row[\"Techstack\"],\n",
    "                       metadatas={\"Links\" : row[\"Links\"]},\n",
    "                       ids=[str(uuid.uuid1())])"
   ]
  },
  {
   "cell_type": "code",
   "execution_count": 11,
   "metadata": {},
   "outputs": [
    {
     "data": {
      "text/plain": [
       "[[{'Links': 'https://example.com/ml-python-portfolio'},\n",
       "  {'Links': 'https://example.com/python-portfolio'},\n",
       "  {'Links': 'https://example.com/pytorch-portfolio'}],\n",
       " [{'Links': 'https://example.com/react-native-portfolio'},\n",
       "  {'Links': 'https://example.com/react-fastapi-portfolio'},\n",
       "  {'Links': 'https://example.com/react-portfolio'}]]"
      ]
     },
     "execution_count": 11,
     "metadata": {},
     "output_type": "execute_result"
    }
   ],
   "source": [
    "links = collection.query(query_texts=[\"Experience in Python and Machine Learning\", \"Expertise in React Native\"], n_results=3)\n",
    "links = links.get(\"metadatas\")\n",
    "links"
   ]
  },
  {
   "cell_type": "code",
   "execution_count": 12,
   "metadata": {},
   "outputs": [
    {
     "data": {
      "text/plain": [
       "({'role': 'Data Scientist Intern - Indonesia',\n",
       "  'experience': 'Intern',\n",
       "  'skills': ['Deep Learning',\n",
       "   'Computer Vision',\n",
       "   'PyTorch',\n",
       "   'Machine Learning',\n",
       "   'Classic ML models',\n",
       "   'Strong communication skills'],\n",
       "  'description': 'We are looking for a dynamic, energetic intern who is eager to solve a variety of practical deep learning and computer vision tasks arising from different businesses in GoTo Financial. You will be working closely with the KYC data science team and attend daily standups. You will be involved in live production projects and assisting prototype development.'},\n",
       " dict)"
      ]
     },
     "execution_count": 12,
     "metadata": {},
     "output_type": "execute_result"
    }
   ],
   "source": [
    "job = json_res\n",
    "job, type(job)"
   ]
  },
  {
   "cell_type": "code",
   "execution_count": 13,
   "metadata": {},
   "outputs": [
    {
     "data": {
      "text/plain": [
       "['Deep Learning',\n",
       " 'Computer Vision',\n",
       " 'PyTorch',\n",
       " 'Machine Learning',\n",
       " 'Classic ML models',\n",
       " 'Strong communication skills']"
      ]
     },
     "execution_count": 13,
     "metadata": {},
     "output_type": "execute_result"
    }
   ],
   "source": [
    "job[\"skills\"]"
   ]
  },
  {
   "cell_type": "code",
   "execution_count": 14,
   "metadata": {},
   "outputs": [
    {
     "data": {
      "text/plain": [
       "[[{'Links': 'https://example.com/ml-python-portfolio'},\n",
       "  {'Links': 'https://example.com/tensorflowjs-portfolio'}],\n",
       " [{'Links': 'https://example.com/ml-python-portfolio'},\n",
       "  {'Links': 'https://example.com/pytorch-portfolio'}],\n",
       " [{'Links': 'https://example.com/pytorch-portfolio'},\n",
       "  {'Links': 'https://example.com/ml-python-portfolio'}],\n",
       " [{'Links': 'https://example.com/ml-python-portfolio'},\n",
       "  {'Links': 'https://example.com/svelte-portfolio'}],\n",
       " [{'Links': 'https://example.com/ml-python-portfolio'},\n",
       "  {'Links': 'https://example.com/cobol-portfolio'}],\n",
       " [{'Links': 'https://example.com/cobol-portfolio'},\n",
       "  {'Links': 'https://example.com/ml-python-portfolio'}]]"
      ]
     },
     "execution_count": 14,
     "metadata": {},
     "output_type": "execute_result"
    }
   ],
   "source": [
    "links = collection.query(query_texts=job[\"skills\"], n_results=2)\n",
    "links = links.get(\"metadatas\")\n",
    "links"
   ]
  },
  {
   "cell_type": "code",
   "execution_count": 15,
   "metadata": {},
   "outputs": [
    {
     "data": {
      "text/plain": [
       "dict"
      ]
     },
     "execution_count": 15,
     "metadata": {},
     "output_type": "execute_result"
    }
   ],
   "source": [
    "type(job)"
   ]
  },
  {
   "cell_type": "code",
   "execution_count": 16,
   "metadata": {},
   "outputs": [
    {
     "name": "stdout",
     "output_type": "stream",
     "text": [
      "Subject: Expert Data Science Solutions for GoTo Financial\n",
      "\n",
      "Dear Hiring Manager,\n",
      "\n",
      "I came across the Data Scientist Intern - Indonesia role at GoTo Financial and was impressed by the exciting opportunities your team is working on. As a Business Development Executive at MichCorp, I'd like to introduce our company as a potential partner in enhancing your data science capabilities.\n",
      "\n",
      "Our team at MichCorp specializes in developing cutting-edge AI and software solutions that drive business growth and operational efficiency. We've worked with numerous clients to leverage deep learning, computer vision, and machine learning technologies, aligning perfectly with the skills required for this internship. Our expertise in PyTorch, classic ML models, and strong communication skills will ensure seamless collaboration with your KYC data science team.\n",
      "\n",
      "I'd like to highlight some of our relevant portfolio items that demonstrate our capabilities in machine learning and PyTorch:\n",
      "\n",
      "* https://example.com/ml-python-portfolio\n",
      "* https://example.com/pytorch-portfolio\n",
      "\n",
      "These projects showcase our proficiency in developing and deploying AI models using Python and PyTorch, which can be applied to solve practical deep learning and computer vision tasks in your business.\n",
      "\n",
      "By partnering with MichCorp, you'll gain access to our team's expertise in:\n",
      "\n",
      "* Developing and deploying AI models using PyTorch and other deep learning frameworks\n",
      "* Enhancing automation and streamlining workflows using machine learning and computer vision\n",
      "* Driving business growth through data-driven decision making\n",
      "\n",
      "I'd be delighted to discuss how MichCorp can support GoTo Financial in achieving its goals. Please let me know if you're interested in scheduling a call to explore further.\n",
      "\n",
      "Best regards,\n",
      "\n",
      "Michael\n",
      "Business Development Executive\n",
      "MichCorp\n"
     ]
    }
   ],
   "source": [
    "prompt_email = PromptTemplate.from_template(\n",
    "        \"\"\"\n",
    "        ### JOB DESCRIPTION:\n",
    "        {job_description}\n",
    "        \n",
    "        ### INSTRUCTION:\n",
    "        You are Michael, a business development executive at MichCorp. MichCorp is an innovative AI & Software Consulting company, specializing in the development of advanced technological solutions that empower businesses to optimize their operations. With a focus on leveraging cutting-edge AI technologies, MichCorp works closely with clients to enhance automation, streamline workflows, and drive business growth. Our solutions have helped numerous organizations achieve greater operational efficiency, cost savings, and scalability.\n",
    "\n",
    "        Your job is to write a cold email to the client regarding the job mentioned above, showcasing MichCorp's expertise in meeting their needs. \n",
    "        Additionally, please include the most relevant portfolio items from the following links: {link_list}\n",
    "        Remember, you are Michael, BDE at MichCorp. \n",
    "        Do not provide a preamble.\n",
    "        ### EMAIL (NO PREAMBLE):\n",
    "        \n",
    "        \"\"\"\n",
    ")\n",
    "\n",
    "chain_extract = prompt_email | llm\n",
    "res = chain_extract.invoke(input={'job_description': str(job), 'link_list': links})\n",
    "print(res.content)"
   ]
  },
  {
   "cell_type": "markdown",
   "metadata": {},
   "source": [
    "---"
   ]
  },
  {
   "cell_type": "code",
   "execution_count": 17,
   "metadata": {},
   "outputs": [],
   "source": [
    "# import re\n",
    "# # Contoh string dengan spasi ekstra\n",
    "# text = \"  Hello   world!  This  is   an example.   \"\n",
    "# text = re.sub(r'\\s+', ' ', text)\n",
    "# print(text)\n",
    "# # Menggunakan ' '.join(text.split()) untuk menghapus spasi ekstra\n",
    "# cleaned_text = ' '.join(text.split())\n",
    "\n",
    "# print(cleaned_text)"
   ]
  },
  {
   "cell_type": "code",
   "execution_count": null,
   "metadata": {},
   "outputs": [],
   "source": []
  }
 ],
 "metadata": {
  "kernelspec": {
   "display_name": "OMGEnv",
   "language": "python",
   "name": "python3"
  },
  "language_info": {
   "codemirror_mode": {
    "name": "ipython",
    "version": 3
   },
   "file_extension": ".py",
   "mimetype": "text/x-python",
   "name": "python",
   "nbconvert_exporter": "python",
   "pygments_lexer": "ipython3",
   "version": "3.10.15"
  }
 },
 "nbformat": 4,
 "nbformat_minor": 2
}
